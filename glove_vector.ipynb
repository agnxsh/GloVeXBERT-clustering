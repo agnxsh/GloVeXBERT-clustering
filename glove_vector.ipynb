{
  "cells": [
    {
      "cell_type": "markdown",
      "metadata": {
        "id": "view-in-github",
        "colab_type": "text"
      },
      "source": [
        "<a href=\"https://colab.research.google.com/github/agnxsh/GloVeXBERT-clustering/blob/main/glove_vector.ipynb\" target=\"_parent\"><img src=\"https://colab.research.google.com/assets/colab-badge.svg\" alt=\"Open In Colab\"/></a>"
      ]
    },
    {
      "cell_type": "code",
      "execution_count": 1,
      "metadata": {
        "id": "caVSioGrGko6"
      },
      "outputs": [],
      "source": []
    },
    {
      "cell_type": "code",
      "execution_count": 2,
      "metadata": {
        "id": "t3shHH9AG5jF"
      },
      "outputs": [],
      "source": [
        "# from google.colab import files\n",
        "# uploaded = files.upload()"
      ]
    },
    {
      "cell_type": "code",
      "execution_count": 3,
      "metadata": {
        "colab": {
          "base_uri": "https://localhost:8080/"
        },
        "id": "g-lafNiJHA10",
        "outputId": "ddd2f80b-4907-4da9-eba7-241c2bea4f2f"
      },
      "outputs": [
        {
          "output_type": "stream",
          "name": "stdout",
          "text": [
            "{'southern': '2\\n', 'direct': '1\\n', 'winter': '2\\n', 'simultan': '1\\n', 'northern': '2\\n', 'revers': '1\\n', 'sun': '2\\n', 'march': '1\\n', 'point': '1\\n', 'summer': '2\\n', 'call': '1\\n', 'axi': '1\\n', 'june': '1\\n', 'month': '1\\n', 'solstic': '3\\n', '_num_': '2\\n', 'altern': '1\\n', 'enjoi': '1\\n', 'decemb': '2\\n', 'rai': '1\\n', 'begin': '1\\n', 'hemispher': '4\\n'}\n"
          ]
        },
        {
          "output_type": "execute_result",
          "data": {
            "text/plain": [
              "list"
            ]
          },
          "metadata": {},
          "execution_count": 3
        }
      ],
      "source": [
        "\n",
        "data = open(\"/content/drive/MyDrive/sparse/sparse_37867.txt\",\"r\")\n",
        "# datar = data.readlines()\n",
        "data=list(data)\n",
        "test_query={}\n",
        "test_query={line.split(\":\")[0]:line.split(\":\")[1] for line in data}\n",
        "print(test_query)\n",
        "type(test_query)\n",
        "type(data)"
      ]
    },
    {
      "cell_type": "code",
      "execution_count": 4,
      "metadata": {
        "id": "FOBHhYA-HK9i"
      },
      "outputs": [],
      "source": [
        "for k,v in test_query.items():\n",
        "  vint = int(v)\n",
        "  test_query[k] = vint"
      ]
    },
    {
      "cell_type": "code",
      "execution_count": 5,
      "metadata": {
        "colab": {
          "base_uri": "https://localhost:8080/"
        },
        "id": "SxVKnSdkHOoP",
        "outputId": "077e9e54-faa8-4e01-e23a-897bf75723eb"
      },
      "outputs": [
        {
          "output_type": "stream",
          "name": "stdout",
          "text": [
            "{'southern': 2, 'direct': 1, 'winter': 2, 'simultan': 1, 'northern': 2, 'revers': 1, 'sun': 2, 'march': 1, 'point': 1, 'summer': 2, 'call': 1, 'axi': 1, 'june': 1, 'month': 1, 'solstic': 3, '_num_': 2, 'altern': 1, 'enjoi': 1, 'decemb': 2, 'rai': 1, 'begin': 1, 'hemispher': 4}\n"
          ]
        }
      ],
      "source": [
        "print(test_query)"
      ]
    },
    {
      "cell_type": "code",
      "execution_count": 6,
      "metadata": {
        "colab": {
          "base_uri": "https://localhost:8080/"
        },
        "id": "BL5dK23sHRh0",
        "outputId": "058906dc-9715-4ce7-c17c-1c855f95b22c"
      },
      "outputs": [
        {
          "output_type": "execute_result",
          "data": {
            "text/plain": [
              "int"
            ]
          },
          "metadata": {},
          "execution_count": 6
        }
      ],
      "source": [
        "type(test_query['southern'])"
      ]
    },
    {
      "cell_type": "code",
      "execution_count": 7,
      "metadata": {
        "id": "-sfkoRLSHTZf"
      },
      "outputs": [],
      "source": [
        "def query_read_module(glove_d):\n",
        "  test_query={}\n",
        "  test_query={line.split(\"\")[0]:line.split(\"\")[1] for line in glove_d}\n",
        "  for k,v in test_query.items():\n",
        "    vint = int(v)\n",
        "    test_query[k] = vint\n",
        "  return test_query"
      ]
    },
    {
      "cell_type": "code",
      "execution_count": 8,
      "metadata": {
        "id": "TfTRXmaIHheY"
      },
      "outputs": [],
      "source": [
        "glove = open(\"/content/drive/MyDrive/glove.6B.100d.txt\",\"r\")\n",
        "glove=list(glove)\n",
        "glove_dict={}\n"
      ]
    },
    {
      "cell_type": "code",
      "execution_count": 9,
      "metadata": {
        "colab": {
          "base_uri": "https://localhost:8080/"
        },
        "id": "r6fuiGxqG19v",
        "outputId": "fc48f31e-9b66-4215-f067-23c398ef93a0"
      },
      "outputs": [
        {
          "output_type": "stream",
          "name": "stdout",
          "text": [
            "['for -0.14401 0.32554 0.14257 -0.099227 0.72536 0.19321 -0.24188 0.20223 -0.89599 0.15215 0.035963 -0.59513 -0.051635 -0.014428 0.35475 -0.31859 0.76984 -0.087369 -0.24762 0.65059 -0.15138 -0.42703 0.18813 0.091562 0.15192 0.11303 -0.15222 -0.62786 -0.23923 0.096009 -0.46147 0.41526 -0.30475 0.1371 0.16758 0.53301 -0.043658 0.85924 -0.41192 -0.21394 -0.51228 -0.31945 0.12662 -0.3151 0.0031429 0.27129 0.17328 -1.3159 -0.42414 -0.69126 0.019017 -0.13375 -0.096057 1.7069 -0.65291 -2.6111 0.26518 -0.61178 2.095 0.38148 -0.55823 0.2036 -0.33704 0.37354 0.6951 -0.001637 0.81885 0.51793 0.27746 -0.37177 -0.43345 -0.42732 -0.54912 -0.30715 0.18101 0.2709 -0.29266 0.30834 -1.4624 -0.18999 0.92277 -0.099217 -0.25165 0.49197 -1.525 0.15326 0.2827 0.12102 -0.36766 -0.61275 -0.18884 0.10907 0.12315 0.090066 -0.65447 -0.17252 2.6336e-05 0.25398 1.1078 -0.073074\\n', '- -1.2557 0.61036 0.56793 -0.96596 -0.45249 -0.071696 0.57122 -0.31292 -0.43814 0.90622 0.06961 -0.053104 0.25029 0.27841 0.77724 0.26329 0.56874 -1.1171 -0.078268 -0.51317 0.8071 0.99214 0.22753 1.0847 0.88292 0.17221 -0.68686 -0.86467 -0.80003 -0.34738 -0.044074 -0.30444 0.23406 0.28592 0.060548 -0.65477 -0.039738 0.74878 -0.46471 0.063023 -0.16519 -1.2217 -0.089479 -0.8125 0.27615 -0.13841 -0.76667 -0.96974 0.83123 -0.77639 -1.3327 -0.28732 -0.053684 1.1735 -1.1795 -2.7519 0.45359 1.1984 2.8203 0.060114 0.32296 0.19097 0.3459 -0.41503 0.1515 0.38148 1.619 0.9929 -0.82549 -0.098692 0.74449 -0.38602 -1.0004 -1.305 -0.31269 -0.57625 0.14095 -0.80269 -1.4714 -0.48014 1.1993 -0.48561 0.40496 -0.032867 -2.051 0.18284 -0.2723 0.043287 0.066801 -0.62832 -0.05854 0.28253 -0.083276 -0.022234 -0.55914 0.24586 0.36052 -1.5877 0.76984 -0.64998\\n', 'that -0.093337 0.19043 0.68457 -0.41548 -0.22777 -0.11803 -0.095434 0.19613 0.17785 -0.020244 -0.055409 0.33867 0.79396 -0.047126 0.44281 -0.061266 0.20796 0.034094 -0.64751 0.35874 0.13936 -0.6831 0.25596 -0.12911 0.2608 -0.11674 0.024925 -0.60259 -0.41474 -0.51104 0.14936 0.79977 -0.12716 0.40474 -0.21435 0.47031 0.49 0.48886 -0.17772 -0.18861 -0.78391 -0.14158 0.22169 -0.22078 -0.30509 -0.10837 0.57168 -0.7832 -0.16328 -0.76131 0.080873 0.00067217 0.44713 1.3434 -0.20014 -2.868 -0.002647 -0.39858 1.8379 1.2211 -0.16066 0.65853 0.26946 0.27212 0.94735 0.24372 0.8194 0.6774 0.063485 -0.55934 0.45541 -0.64684 -0.034702 -0.45566 0.21847 -0.051689 0.32299 -0.022961 -1.7955 0.31217 0.76227 -0.23191 -1.0133 -0.0064374 -1.8135 -0.75221 0.28362 -0.30815 -0.43853 -0.62654 0.13213 -0.54725 -0.47478 -0.0079727 -0.15112 -0.29326 -0.35118 -0.68175 0.28804 0.54893\\n', 'on -0.21863 -0.42664 0.5196 0.0043103 0.58045 -0.10873 -0.37726 0.4566 -0.60627 -0.075773 0.11306 0.17703 0.1605 0.074514 0.63649 -0.078852 0.75268 -0.24962 -0.51628 -0.33348 0.66754 -0.34183 0.61316 0.31668 0.64846 -0.079312 -0.065219 -0.17718 -0.32439 0.51868 -0.23424 0.34381 0.046851 0.74025 -0.47005 0.53685 -0.35549 0.40737 -0.093421 -0.13439 -0.41969 -0.30041 0.28646 0.37419 -0.46054 -0.307 -0.3858 -0.69317 -0.00092461 -0.61984 0.11978 0.1495 0.17833 1.5313 -0.92445 -3.0428 0.030761 -0.64359 2.3824 0.56219 -0.56021 1.0264 -0.45143 0.14117 0.65944 0.37572 0.098334 0.38304 -0.076882 -0.21781 -0.29892 -0.49458 0.095239 -0.63059 -0.061311 0.17767 -0.14051 0.47182 -0.95891 0.045334 0.808 -0.026867 -0.27483 0.35541 -0.82896 -0.78838 -0.079732 0.22941 -0.45013 -0.3004 -0.52716 0.11358 -0.49906 0.827 -0.56991 0.25143 -0.40266 -0.29146 1.3816 0.18084\\n', 'is -0.54264 0.41476 1.0322 -0.40244 0.46691 0.21816 -0.074864 0.47332 0.080996 -0.22079 -0.12808 -0.1144 0.50891 0.11568 0.028211 -0.3628 0.43823 0.047511 0.20282 0.49857 -0.10068 0.13269 0.16972 0.11653 0.31355 0.25713 0.092783 -0.56826 -0.52975 -0.051456 -0.67326 0.92533 0.2693 0.22734 0.66365 0.26221 0.19719 0.2609 0.18774 -0.3454 -0.42635 0.13975 0.56338 -0.56907 0.12398 -0.12894 0.72484 -0.26105 -0.26314 -0.43605 0.078908 -0.84146 0.51595 1.3997 -0.7646 -3.1453 -0.29202 -0.31247 1.5129 0.52435 0.21456 0.42452 -0.088411 -0.17805 1.1876 0.10579 0.76571 0.21914 0.35824 -0.11636 0.093261 -0.62483 -0.21898 0.21796 0.74056 -0.43735 0.14343 0.14719 -1.1605 -0.050508 0.12677 -0.014395 -0.98676 -0.091297 -1.2054 -0.11974 0.047847 -0.54001 0.52457 -0.70963 -0.32528 -0.1346 -0.41314 0.33435 -0.0072412 0.32253 -0.044219 -1.2969 0.76217 0.46349\\n', 'was 0.13717 -0.54287 0.19419 -0.29953 0.17545 0.084672 0.67752 0.098295 -0.035611 0.21334 0.51663 0.20687 0.44082 -0.33655 0.56025 -0.6879 0.51957 -0.21258 -0.52708 -0.12249 0.33099 0.026448 0.59007 0.0065469 0.45405 -0.33884 -0.28261 -0.24633 0.10847 0.3164 -0.15368 0.73503 0.11858 0.70842 0.075081 0.29738 -0.11395 0.40807 -0.042531 -0.21301 -0.79849 -0.12703 0.752 -0.41746 0.46615 -0.039097 0.65961 -0.32336 0.442 -0.94137 -0.23125 -0.30604 0.79912 1.4581 -0.88199 -3.0041 -0.75243 -0.20503 1.1998 0.94881 0.30649 0.48411 -0.7572 0.65856 0.70107 -0.93141 0.52928 0.23323 0.18857 0.38691 0.011489 -0.31937 0.011858 0.22944 0.17764 0.16868 0.14003 0.58647 -1.5447 -0.064425 -0.00064711 0.13606 -0.32695 0.10043 -1.546 -0.5476 0.21027 -0.67195 -0.1597 -0.68271 -0.22043 -0.87088 -0.16248 0.83086 -0.23045 0.19864 -0.051892 -0.52057 0.25434 -0.23759\\n', 'said -0.13128 -0.452 0.043399 -0.99798 -0.21053 -0.95868 -0.24609 0.48413 0.18178 0.475 -0.22305 0.30064 0.43496 -0.3605 0.20245 -0.52594 -0.34708 0.0075873 -1.0497 0.18673 0.57369 0.43814 0.098659 0.3877 -0.2258 0.41911 0.043602 -0.7352 -0.53583 0.19276 -0.21961 0.42515 -0.19082 0.47187 0.18826 0.13357 0.41839 1.3138 0.35678 -0.32172 -1.2257 -0.26635 0.36716 -0.27586 -0.53246 0.16786 -0.11253 -0.99959 -0.60706 -0.89271 0.65156 -0.88784 0.049233 0.67111 -0.27553 -2.4005 -0.36989 0.29136 1.3498 1.7353 0.27 0.021299 0.14422 0.023784 0.33643 -0.35476 1.0921 1.4845 0.4943 0.15688 0.34679 -0.57221 0.12093 -1.2616 1.0541 0.064335 -0.002732 0.19038 -1.7643 0.055068 1.4737 -0.41782 -0.57342 -0.12129 -1.3169 -0.73883 0.17682 -0.019991 -0.49176 -0.55247 1.0623 -0.62879 0.29098 0.13238 -0.70414 0.67128 -0.085462 -0.30526 -0.045495 0.56509\\n', 'with -0.43608 0.39104 0.51657 -0.13861 0.2029 0.50723 -0.012544 0.22948 -0.6316 0.21199 -0.018043 -0.39364 0.74164 0.30221 0.51792 -0.25191 0.25373 -0.65184 -0.42963 0.0093622 0.023334 -0.39245 0.34948 0.21217 0.7346 -0.21962 -0.028611 -0.34641 -0.20934 -0.27091 -0.17637 0.82396 -0.082339 -0.034869 0.079722 0.34841 0.60887 0.22811 -0.29633 0.18633 0.234 -0.70966 0.16312 -0.20857 0.092369 -0.075435 -0.13905 -0.35121 -0.19972 -0.41687 -0.31485 0.16123 0.038882 1.6654 -0.12401 -3.3419 0.10929 -0.026199 1.244 0.84374 -0.15679 0.79041 -0.042433 0.18884 0.064345 -0.11683 1.0467 0.71813 0.57834 0.27014 -0.50908 -0.083995 -0.1437 -0.76408 0.27418 0.56814 -0.39375 -0.32558 -0.92854 -0.13098 1.3277 0.11851 -0.15551 0.5972 -1.084 -0.058137 0.23886 0.14558 -0.59303 -0.47511 -0.22064 -0.37591 -0.79649 0.013465 -0.44595 -0.34623 -0.75398 -0.3517 0.99456 0.088196\\n', 'he 0.1225 -0.058833 0.23658 -0.28877 -0.028181 0.31524 0.070229 0.16447 -0.027623 0.25214 0.21174 -0.059674 0.36133 0.13607 0.18755 -0.1487 0.31315 0.13368 -0.59703 -0.030161 0.080656 0.26162 -0.055924 -0.35351 0.34722 -0.0055801 -0.57935 -0.88007 0.42931 -0.15695 -0.51256 1.2684 -0.25228 0.35265 -0.46419 0.55648 -0.57556 0.32574 -0.21893 -0.13178 -1.1027 -0.039591 0.89643 -0.9845 -0.47393 -0.12855 0.63506 -0.94888 0.40088 -0.77542 -0.35153 -0.27788 0.68747 1.458 -0.38474 -2.8937 -0.29523 -0.38836 0.94881 1.3891 0.054591 0.70486 -0.65699 0.075648 0.7655 -0.63365 0.86556 0.42441 0.14796 0.4156 0.29354 -0.51295 0.19635 -0.45568 0.0080246 0.14528 -0.15395 0.11406 -1.2167 -0.1111 0.8264 0.21738 -0.63776 -0.074874 -1.713 -0.8827 -0.0073058 -0.37623 -0.50209 -0.58844 -0.24943 -1.0425 0.27678 0.64142 -0.64605 0.43559 -0.37276 -0.0032068 0.18744 0.30702\\n', 'as -0.32721 0.096446 0.34244 -0.44327 0.30535 -0.042016 -0.071235 -0.31036 -0.22557 -0.181 -0.29088 -0.61542 0.29751 0.030491 0.41504 -0.51489 0.68628 -0.020302 -0.18486 0.31605 0.59472 -0.2147 0.29256 0.43262 0.35466 -0.29659 -0.27086 -0.48953 -0.047391 0.24521 -0.15783 0.59742 -0.41664 0.057632 0.1233 0.62326 -0.08844 0.3077 -0.15742 -0.28381 -0.58058 -0.022824 0.26689 -0.22565 0.47548 0.11134 0.37263 -0.14554 -0.16775 -0.79377 -0.30593 -0.10671 0.44199 1.5698 -0.73062 -2.7314 -0.19366 -0.32983 1.2881 0.62126 -0.255 0.8416 -0.23658 0.42594 0.86589 -0.35904 0.78162 0.20396 0.82898 0.0016123 -0.24008 -0.72735 -0.053671 -0.22264 0.31034 -0.21243 -0.14335 0.317 -0.80478 -0.49311 0.88023 -0.24147 -0.3922 0.15997 -1.5854 -0.25824 0.052834 -0.11983 -0.018874 -0.77356 0.049285 -0.25332 -0.3073 0.51295 -0.56802 -0.21239 -0.39741 -0.38165 0.43994 0.24683\\n']\n"
          ]
        }
      ],
      "source": [
        "print(glove[10:20])"
      ]
    },
    {
      "cell_type": "code",
      "execution_count": 10,
      "metadata": {
        "id": "l22utkHJM1KT"
      },
      "outputs": [],
      "source": [
        "glove_dict={}\n",
        "# glove_dict={line.split(\" \")[0]:line.split(\" \")[1:] for line in glove_d[0:150000]}\n"
      ]
    },
    {
      "cell_type": "code",
      "execution_count": 11,
      "metadata": {
        "colab": {
          "base_uri": "https://localhost:8080/"
        },
        "id": "c9Hh5KUj5h0S",
        "outputId": "4df97547-b11e-407b-aa12-69ed8b363071"
      },
      "outputs": [
        {
          "output_type": "execute_result",
          "data": {
            "text/plain": [
              "400000"
            ]
          },
          "metadata": {},
          "execution_count": 11
        }
      ],
      "source": [
        "len(glove)"
      ]
    },
    {
      "cell_type": "code",
      "execution_count": 11,
      "metadata": {
        "id": "8P7GFx_1-QOw"
      },
      "outputs": [],
      "source": []
    },
    {
      "cell_type": "code",
      "execution_count": 12,
      "metadata": {
        "id": "szHOEz4S8Oyd"
      },
      "outputs": [],
      "source": [
        "glove_dict={}\n",
        "glove_dictf={}\n",
        "def batch_clustering(glove):\n",
        "  start=0\n",
        "  limit=80000\n",
        "  for i in range(len(glove)):\n",
        "    glove_dict={line.split(\" \")[0]:line.split(\" \")[1:] for line in glove[start:limit]}\n",
        "    glove_dictf.update(glove_dict)\n",
        "    start=limit\n",
        "    limit=limit+80000\n",
        "  return glove_dictf"
      ]
    },
    {
      "cell_type": "code",
      "execution_count": 13,
      "metadata": {
        "id": "lGjUvR1fPQ5K"
      },
      "outputs": [],
      "source": [
        "gdf={}\n",
        "gdf=batch_clustering(glove)\n",
        "# gdf"
      ]
    },
    {
      "cell_type": "code",
      "execution_count": 15,
      "metadata": {
        "colab": {
          "base_uri": "https://localhost:8080/"
        },
        "id": "u1TVA1IGTo1b",
        "outputId": "725aceae-261e-42a6-fc45-91609d7a2b3a"
      },
      "outputs": [
        {
          "output_type": "execute_result",
          "data": {
            "text/plain": [
              "400000"
            ]
          },
          "metadata": {},
          "execution_count": 15
        }
      ],
      "source": [
        "len(gdf.keys())"
      ]
    },
    {
      "cell_type": "code",
      "execution_count": null,
      "metadata": {
        "id": "_g14JvXR_YlV"
      },
      "outputs": [],
      "source": [
        "from google.colab import drive\n",
        "drive.mount('/content/drive')"
      ]
    },
    {
      "cell_type": "code",
      "execution_count": null,
      "metadata": {
        "id": "5Kgc5SsPNFBI"
      },
      "outputs": [],
      "source": [
        "import nltk\n",
        "from nltk.stem.porter import *"
      ]
    },
    {
      "cell_type": "code",
      "execution_count": null,
      "metadata": {
        "id": "T5QZYrh8TWB4"
      },
      "outputs": [],
      "source": [
        "stemmer = PorterStemmer()"
      ]
    },
    {
      "cell_type": "code",
      "execution_count": null,
      "metadata": {
        "id": "K4aHcOLuTcA0"
      },
      "outputs": [],
      "source": [
        "test_query_alt = {}\n",
        "def query_listing(test_query):\n",
        "  query_list=[]\n",
        "  for k,v in test_query.items():\n",
        "    query_list.append(k)\n",
        "\n",
        "  print(query_list)\n",
        "  return(query_list)"
      ]
    },
    {
      "cell_type": "code",
      "execution_count": null,
      "metadata": {
        "id": "dbFpHAbWEN3y"
      },
      "outputs": [],
      "source": [
        "test_query_alt = test_query\n",
        "ql2 = []\n",
        "ql2 = query_listing(test_query_alt)\n",
        "print(ql2)"
      ]
    },
    {
      "cell_type": "code",
      "execution_count": null,
      "metadata": {
        "id": "K3bWl4q9GLxj"
      },
      "outputs": [],
      "source": [
        "from nltk.stem import PorterStemmer\n",
        "from nltk.tokenize import word_tokenize\n",
        "\n",
        "ps = PorterStemmer()\n",
        "ql2_stemmed=[]\n",
        "for w in ql2:\n",
        "  ql2_stemmed.append(ps.stem(w))\n",
        "print(ql2_stemmed)"
      ]
    },
    {
      "cell_type": "code",
      "execution_count": null,
      "metadata": {
        "id": "QMztKjPADWxD"
      },
      "outputs": [],
      "source": []
    },
    {
      "cell_type": "code",
      "execution_count": null,
      "metadata": {
        "id": "GB52ry5UDZHw"
      },
      "outputs": [],
      "source": [
        "bert_vec = open(\"/content/drive/MyDrive/dense/37867_dense_tctcolbert.txt\",\"r\")\n",
        "bert_vec = list(bert_vec)\n",
        "print(bert_vec)"
      ]
    },
    {
      "cell_type": "code",
      "execution_count": null,
      "metadata": {
        "id": "fuDtrzz8IgfV"
      },
      "outputs": [],
      "source": [
        "type(bert_vec[0])"
      ]
    },
    {
      "cell_type": "code",
      "source": [
        "def bert_con(bert_vec):\n",
        "  bert_vec2=bert_vec[0].split(\" \")\n",
        "  bert_final=[]\n",
        "  ele=0\n",
        "  for items in bert_vec2:\n",
        "    ele=float(items)\n",
        "    bert_final.append(ele)\n",
        "  return(bert_final)\n",
        "\n",
        "bert_v = []\n",
        "bert_v=bert_con(bert_vec)\n",
        "bert_v"
      ],
      "metadata": {
        "id": "NOAU0ZOM8i-r"
      },
      "execution_count": null,
      "outputs": []
    },
    {
      "cell_type": "code",
      "execution_count": null,
      "metadata": {
        "id": "XG-EH3nOJAVM"
      },
      "outputs": [],
      "source": [
        "# import torch\n",
        "# bert_t=torch.FloatTensor(bert_v)\n",
        "# bert_t"
      ]
    },
    {
      "cell_type": "code",
      "source": [
        "import numpy as np\n",
        "bert_arr=np.asarray(bert_v)\n",
        "print(bert_arr)\n",
        "np.shape(bert_arr)"
      ],
      "metadata": {
        "id": "KTQSz6DTBiFy"
      },
      "execution_count": null,
      "outputs": []
    },
    {
      "cell_type": "code",
      "source": [
        "gdf"
      ],
      "metadata": {
        "id": "o2VchNRcCj7K"
      },
      "execution_count": null,
      "outputs": []
    },
    {
      "cell_type": "code",
      "source": [
        "def glove_con(glove_vec2):\n",
        "  glove_final=[]\n",
        "  for items in glove_vec2:\n",
        "    ele=float(items)\n",
        "    glove_final.append(ele)\n",
        "  return(glove_final)"
      ],
      "metadata": {
        "id": "VLkwvLeFGzvL"
      },
      "execution_count": null,
      "outputs": []
    },
    {
      "cell_type": "code",
      "source": [
        "def change_glove(gdf):\n",
        "  ele2=0\n",
        "  el=[]\n",
        "  for k,v in gdf.items():\n",
        "    for item in v:\n",
        "      ele2=float(item)\n",
        "    el.append(ele2)\n",
        "    gdf[k]=el\n",
        "  \n",
        "  print(gdf)\n",
        "  return(gdf)\n",
        "\n",
        "      \n",
        "g_vec ={}\n",
        "g_vec=change_glove(gdf)"
      ],
      "metadata": {
        "id": "6CHFp4rdDnUy"
      },
      "execution_count": null,
      "outputs": []
    },
    {
      "cell_type": "code",
      "source": [
        "g_vec"
      ],
      "metadata": {
        "id": "OgzbWdm2IFRR"
      },
      "execution_count": null,
      "outputs": []
    },
    {
      "cell_type": "code",
      "source": [
        "def concat_module(q1,q2, ):\n"
      ],
      "metadata": {
        "id": "pS0TIro3IxnE"
      },
      "execution_count": null,
      "outputs": []
    }
  ],
  "metadata": {
    "accelerator": "GPU",
    "colab": {
      "provenance": [],
      "mount_file_id": "1mWmmiICo2BeKdnlm9yc-bMrr-o5UFhFO",
      "authorship_tag": "ABX9TyM1+3WbmPASuLPZvthiOpaB",
      "include_colab_link": true
    },
    "kernelspec": {
      "display_name": "Python 3",
      "name": "python3"
    },
    "language_info": {
      "name": "python"
    }
  },
  "nbformat": 4,
  "nbformat_minor": 0
}